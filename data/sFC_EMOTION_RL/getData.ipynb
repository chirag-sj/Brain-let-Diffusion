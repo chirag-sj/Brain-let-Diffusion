{
 "cells": [
  {
   "cell_type": "code",
   "execution_count": 19,
   "metadata": {},
   "outputs": [],
   "source": [
    "import numpy as np\n",
    "import os\n",
    "matrices_path = './matrices/'\n",
    "file_list = os.listdir(matrices_path)\n",
    "tfc_dict = {}\n",
    "fc_key_ls = []\n",
    "tf_fcs_ls = []\n",
    "for file in file_list:\n",
    "    # print(int(file.split('_')[0]))\n",
    "    fc_key = int(file.split('_')[0])\n",
    "    tf_fcs = np.load(matrices_path + file)\n",
    "    fc_key_ls.append(fc_key)\n",
    "    tf_fcs_ls.append(tf_fcs)\n",
    "tfc_dict['subject_list'] = np.array(fc_key_ls)\n",
    "tfc_dict['fc_matrix'] = np.array(tf_fcs_ls)\n",
    "np.save('emotion_tfmri_correlation.npy', tfc_dict, allow_pickle=True)"
   ]
  },
  {
   "cell_type": "code",
   "execution_count": 23,
   "metadata": {},
   "outputs": [],
   "source": [
    "tfc_data = np.load('emotion_tfmri_correlation.npy', allow_pickle=True).item()"
   ]
  },
  {
   "cell_type": "code",
   "execution_count": 24,
   "metadata": {},
   "outputs": [
    {
     "data": {
      "text/plain": [
       "array([[[ 1.        ,  0.05731686,  0.20305013, ..., -0.46081513,\n",
       "          0.29459744,  0.49395133],\n",
       "        [ 0.05731686,  1.        ,  0.19503841, ...,  0.10093284,\n",
       "          0.03354051, -0.05750357],\n",
       "        [ 0.20305013,  0.19503841,  1.        , ..., -0.1190716 ,\n",
       "          0.28412523,  0.25670464],\n",
       "        ...,\n",
       "        [-0.46081513,  0.10093284, -0.1190716 , ...,  1.        ,\n",
       "         -0.21228834, -0.39901779],\n",
       "        [ 0.29459744,  0.03354051,  0.28412523, ..., -0.21228834,\n",
       "          1.        ,  0.64717357],\n",
       "        [ 0.49395133, -0.05750357,  0.25670464, ..., -0.39901779,\n",
       "          0.64717357,  1.        ]]])"
      ]
     },
     "execution_count": 24,
     "metadata": {},
     "output_type": "execute_result"
    }
   ],
   "source": [
    "id=100206\n",
    "tfc_data['fc_matrix'][np.where(tfc_data['subject_list']==id)]"
   ]
  },
  {
   "cell_type": "code",
   "execution_count": null,
   "metadata": {},
   "outputs": [],
   "source": []
  }
 ],
 "metadata": {
  "kernelspec": {
   "display_name": "temporal",
   "language": "python",
   "name": "python3"
  },
  "language_info": {
   "codemirror_mode": {
    "name": "ipython",
    "version": 3
   },
   "file_extension": ".py",
   "mimetype": "text/x-python",
   "name": "python",
   "nbconvert_exporter": "python",
   "pygments_lexer": "ipython3",
   "version": "3.10.11"
  }
 },
 "nbformat": 4,
 "nbformat_minor": 2
}
